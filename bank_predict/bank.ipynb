{
 "cells": [
  {
   "cell_type": "markdown",
   "metadata": {},
   "source": [
    "# 「二分类算法」提供银行精准营销解决方案 | 练习赛\n",
    "> ref: [kesci](https://www.kesci.com/home/competition/5c234c6626ba91002bfdfdd3/content)"
   ]
  },
  {
   "cell_type": "markdown",
   "metadata": {},
   "source": [
    "### 引入数据 & 标签化"
   ]
  },
  {
   "cell_type": "code",
   "execution_count": 73,
   "metadata": {},
   "outputs": [],
   "source": [
    "import pandas as pd\n",
    "df = pd.DataFrame(pd.read_csv('~/PycharmProjects/bank/train_set.csv',sep=',',header=0))\n",
    "# columns = df.columns.values\n",
    "# trainX = df.iloc[0:, 1:-1]\n",
    "trainX = df.iloc[:, 1:-1]  # 去除ID, y\n",
    "trainX = trainX.drop(['day','month'], axis=1)\n",
    "trainY = df['y']\n",
    "\n",
    "testDf = pd.DataFrame(pd.read_csv('~/PycharmProjects/bank/test_set.csv',sep=',',header=0))\n",
    "testX = testDf.iloc[:, 1:]\n",
    "testID = testDf.iloc[:, 0]\n",
    "testX = testX.drop(['day','month'],axis=1)\n",
    "\n",
    "def labelize(columns):\n",
    "    for col in columns:\n",
    "        listUniq = trainX.loc[:,col].unique()\n",
    "        for j in range(len(listUniq)):\n",
    "            trainX.loc[:,col] = trainX.loc[:,col].apply(lambda x:j if x==listUniq[j] else x)\n",
    "            testX.loc[:,col] = testX.loc[:,col].apply(lambda x:j if x==listUniq[j] else x)\n",
    "\n",
    "\n",
    "labelize(['job','marital', 'education','default','housing','loan','poutcome','contact'])"
   ]
  },
  {
   "cell_type": "markdown",
   "metadata": {},
   "source": [
    "### 用线性回归模型"
   ]
  },
  {
   "cell_type": "code",
   "execution_count": 74,
   "metadata": {},
   "outputs": [],
   "source": [
    "from sklearn import linear_model\n",
    "regr = linear_model.LinearRegression()\n",
    "regr.fit(trainX, trainY)\n",
    "\n",
    "a, b = regr.coef_, regr.intercept_\n",
    "testY = regr.predict(testX)\n",
    "\n",
    "regr_y = pd.DataFrame(testY, columns=['pred'])\n",
    "regr_y.insert(0,'ID',testID)\n",
    "regr_y.set_index('ID',inplace=True)"
   ]
  },
  {
   "cell_type": "markdown",
   "metadata": {},
   "source": [
    "### 用决策树模型"
   ]
  },
  {
   "cell_type": "code",
   "execution_count": 75,
   "metadata": {},
   "outputs": [],
   "source": [
    "from sklearn import tree\n",
    "clf = tree.DecisionTreeClassifier()\n",
    "clf = clf.fit(trainX, trainY)\n",
    "testY = clf.predict(testX)\n",
    "tree_y = pd.DataFrame(testY, columns=['pred'])\n",
    "tree_y.insert(0,'ID',testID)\n",
    "tree_y.set_index('ID',inplace=True)"
   ]
  },
  {
   "cell_type": "markdown",
   "metadata": {},
   "source": [
    "### 两个模型取均值"
   ]
  },
  {
   "cell_type": "code",
   "execution_count": 79,
   "metadata": {},
   "outputs": [],
   "source": [
    "avg_y = pd.DataFrame(testID, columns=['ID'])\n",
    "avg_y.insert(1,'pred',-1.)\n",
    "avg_y.set_index('ID',inplace=True)\n",
    "\n",
    "for i in range(avg_y.index.size):\n",
    "    avg_y.iloc[i]['pred'] = (regr_y.iloc[i]['pred'] + tree_y.iloc[i]['pred']) * 0.5\n",
    "\n",
    "avg_y.to_csv('~/PycharmProjects/bank/test_res.csv')"
   ]
  }
 ],
 "metadata": {
  "kernelspec": {
   "display_name": "Python 3",
   "language": "python",
   "name": "python3"
  },
  "language_info": {
   "codemirror_mode": {
    "name": "ipython",
    "version": 3
   },
   "file_extension": ".py",
   "mimetype": "text/x-python",
   "name": "python",
   "nbconvert_exporter": "python",
   "pygments_lexer": "ipython3",
   "version": "3.6.5"
  }
 },
 "nbformat": 4,
 "nbformat_minor": 1
}
